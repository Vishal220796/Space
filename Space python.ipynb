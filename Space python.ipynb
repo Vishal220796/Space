import numpy as np
import pandas as pd
import matplotlib .pyplot as plt


dataframe = pd.read_csv("space_Corrected.csv")
df=dataframe.dropna()

df.head)(10)
   
   
   
   group_by_name = df.groupby('Company Name') ['Status Mission'].count().reset_index()
   print(group_by_name)
   fig = plt.subplots(figsize=(16,8))
   plt.title('Total (Since 1957)', fontsize=20)
   plt.xlabel('Comapny Name', fontsize=16)
   plt.ylabel('Missions Counts', fontsize=16)
   plt.xticks(rotation='vertical')
   
   
   label = group_by_name['Company Name']
   value = group = group_by_name['Status Mission']
   plt.bar(label, value,width=0.4, color=('red', 'blue', 'green', 'orange', 'yellow'))
   
   group_by_status = df.grouby('Status Mission')['Status Rocket'].count().reset_index()
   print(group_by_status)
   value = group_by_status['Status Rocket']
   label = group_by_status['Status Mission']
   plt.pie(value,labels=label, autopct=' %0.1f%%', radius=2)
   plt.show()
   
   search_StatusActive= df.loc[df['Status Rocket'] == 'StatusActive']
   
   
   group_by_status = search_StatusActive.groupby('Company Name')['Status Rocket'].count().reset_index()
   print(group_by_status)
   fig = plt.subplots(figsize=(16,8))
   plt.xlabel("Company Name")
   plt.xtricks(rotation='vertical')
   plt.ylabel("Number ofActive Rockets")
   
   
   label = group_by_status['Company Name']
   value = group_by_status['Status Rocket']
   
   
   plt.bar(label, value,width=0.4, color=('red,'blue,'green,'orange','yellow'))
   